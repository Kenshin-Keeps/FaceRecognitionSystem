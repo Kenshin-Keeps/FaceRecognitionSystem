{
  "nbformat": 4,
  "nbformat_minor": 0,
  "metadata": {
    "colab": {
      "name": "FaceRecognition_for_assignment.ipynb",
      "provenance": [],
      "collapsed_sections": [
        "aGdQcrrlZwOq"
      ]
    },
    "kernelspec": {
      "name": "python3",
      "display_name": "Python 3"
    },
    "language_info": {
      "name": "python"
    },
    "accelerator": "GPU"
  },
  "cells": [
    {
      "cell_type": "code",
      "source": [
        "from google.colab import drive\n",
        "drive.mount('/content/gdrive')"
      ],
      "metadata": {
        "colab": {
          "base_uri": "https://localhost:8080/"
        },
        "id": "3BmllRw4EtKx",
        "outputId": "55dcc5c1-107e-49ac-fc6f-e432683865ff"
      },
      "execution_count": 4,
      "outputs": [
        {
          "output_type": "stream",
          "name": "stdout",
          "text": [
            "Mounted at /content/gdrive\n"
          ]
        }
      ]
    },
    {
      "cell_type": "code",
      "source": [
        "# Import standard dependencies\n",
        "import cv2\n",
        "import os\n",
        "import random\n",
        "import numpy as np\n",
        "from matplotlib import pyplot as plt\n",
        "import os\n",
        "import uuid"
      ],
      "metadata": {
        "id": "MFshYnWtB-YV"
      },
      "execution_count": 67,
      "outputs": []
    },
    {
      "cell_type": "code",
      "source": [
        "# Import tensorflow dependencies - Functional API\n",
        "from tensorflow.keras.models import Model\n",
        "from tensorflow.keras.layers import Layer, Conv2D, Dense, MaxPooling2D, Input, Flatten\n",
        "import tensorflow as tf"
      ],
      "metadata": {
        "id": "gd_8F1GvCMFq"
      },
      "execution_count": 6,
      "outputs": []
    },
    {
      "cell_type": "code",
      "source": [
        "cd '/content/gdrive/MyDrive/Job/face_recognizer_assignment/nic'"
      ],
      "metadata": {
        "colab": {
          "base_uri": "https://localhost:8080/"
        },
        "id": "S4r-jDD9FUqJ",
        "outputId": "a97c3382-4729-4881-b0e1-d2cc124ca97c"
      },
      "execution_count": 5,
      "outputs": [
        {
          "output_type": "stream",
          "name": "stdout",
          "text": [
            "/content/gdrive/MyDrive/Job/face_recognizer_assignment/nic\n"
          ]
        }
      ]
    },
    {
      "cell_type": "code",
      "source": [
        "# Setup paths\n",
        "POS_PATH = os.path.join('data', 'positive')\n",
        "NEG_PATH = os.path.join('data', 'negative')\n",
        "ANC_PATH = os.path.join('data', 'anchor')"
      ],
      "metadata": {
        "id": "DFoWQoQDCXUu"
      },
      "execution_count": 8,
      "outputs": []
    },
    {
      "cell_type": "code",
      "source": [
        "POS_PATH"
      ],
      "metadata": {
        "colab": {
          "base_uri": "https://localhost:8080/",
          "height": 35
        },
        "id": "t_fXGjLxFZNh",
        "outputId": "03585fbe-3978-456c-c0b8-a6ccb458bb25"
      },
      "execution_count": 9,
      "outputs": [
        {
          "output_type": "execute_result",
          "data": {
            "text/plain": [
              "'data/positive'"
            ],
            "application/vnd.google.colaboratory.intrinsic+json": {
              "type": "string"
            }
          },
          "metadata": {},
          "execution_count": 9
        }
      ]
    },
    {
      "cell_type": "markdown",
      "source": [
        "##For data Collection purpose"
      ],
      "metadata": {
        "id": "aGdQcrrlZwOq"
      }
    },
    {
      "cell_type": "code",
      "source": [
        "# # Move LFW Images to the following repository data/negative\n",
        "# for directory in os.listdir('lfw'):\n",
        "#     for file in os.listdir(os.path.join('lfw', directory)):\n",
        "#         EX_PATH = os.path.join('lfw', directory, file)\n",
        "#         NEW_PATH = os.path.join(NEG_PATH, file)\n",
        "#         os.replace(EX_PATH, NEW_PATH)"
      ],
      "metadata": {
        "id": "E4sMo9qvDBDR"
      },
      "execution_count": 12,
      "outputs": []
    },
    {
      "cell_type": "code",
      "source": [
        "# Import uuid library to generate unique image names\n",
        "# import uuid"
      ],
      "metadata": {
        "id": "J8Rodf9TIg7H"
      },
      "execution_count": 13,
      "outputs": []
    },
    {
      "cell_type": "code",
      "source": [
        "# os.path.join(ANC_PATH, '{}.jpg'.format(uuid.uuid1()))"
      ],
      "metadata": {
        "id": "JbX42nl4UAzq"
      },
      "execution_count": 14,
      "outputs": []
    },
    {
      "cell_type": "code",
      "source": [
        "# # Establish a connection to the webcam\n",
        "# cap = cv2.VideoCapture(0)\n",
        "# while cap.isOpened(): \n",
        "#     ret, frame = cap.read()\n",
        "   \n",
        "#     # Cut down frame to 250x250px\n",
        "#     frame = frame[120:120+250,200:200+250, :]\n",
        "    \n",
        "#     # Collect anchors \n",
        "#     if cv2.waitKey(1) & 0XFF == ord('a'):\n",
        "#         # Create the unique file path \n",
        "#         imgname = os.path.join(ANC_PATH, '{}.jpg'.format(uuid.uuid1()))\n",
        "#         # Write out anchor image\n",
        "#         cv2.imwrite(imgname, frame)\n",
        "    \n",
        "#     # Collect positives\n",
        "#     if cv2.waitKey(1) & 0XFF == ord('p'):\n",
        "#         # Create the unique file path \n",
        "#         imgname = os.path.join(POS_PATH, '{}.jpg'.format(uuid.uuid1()))\n",
        "#         # Write out positive image\n",
        "#         cv2.imwrite(imgname, frame)\n",
        "    \n",
        "#     # Show image back to screen\n",
        "#     cv2.imshow('Image Collection', frame)\n",
        "    \n",
        "#     # Breaking gracefully\n",
        "#     if cv2.waitKey(1) & 0XFF == ord('q'):\n",
        "#         break\n",
        "        \n",
        "# # Release the webcam\n",
        "# cap.release()\n",
        "# # Close the image show frame\n",
        "# cv2.destroyAllWindows()"
      ],
      "metadata": {
        "id": "DfFVOXX-UC7J"
      },
      "execution_count": 15,
      "outputs": []
    },
    {
      "cell_type": "code",
      "source": [
        "# def data_aug(img):\n",
        "#     data = []\n",
        "#     for i in range(9):\n",
        "#         img = tf.image.stateless_random_brightness(img, max_delta=0.02, seed=(1,2))\n",
        "#         img = tf.image.stateless_random_contrast(img, lower=0.6, upper=1, seed=(1,3))\n",
        "#         # img = tf.image.stateless_random_crop(img, size=(20,20,3), seed=(1,2))\n",
        "#         img = tf.image.stateless_random_flip_left_right(img, seed=(np.random.randint(100),np.random.randint(100)))\n",
        "#         img = tf.image.stateless_random_jpeg_quality(img, min_jpeg_quality=90, max_jpeg_quality=100, seed=(np.random.randint(100),np.random.randint(100)))\n",
        "#         img = tf.image.stateless_random_saturation(img, lower=0.9,upper=1, seed=(np.random.randint(100),np.random.randint(100)))\n",
        "            \n",
        "#         data.append(img)\n",
        "    \n",
        "#     return data"
      ],
      "metadata": {
        "id": "j16jDXSuZRTb"
      },
      "execution_count": 16,
      "outputs": []
    },
    {
      "cell_type": "code",
      "source": [
        ""
      ],
      "metadata": {
        "id": "73kdSBc6ZjXf"
      },
      "execution_count": 17,
      "outputs": []
    },
    {
      "cell_type": "code",
      "source": [
        "# img_path = os.path.join(ANC_PATH, '924e839c-135f-11ec-b54e-a0cec8d2d278.jpg')\n",
        "# img = cv2.imread(img_path)\n",
        "# augmented_images = data_aug(img)\n",
        "\n",
        "# for image in augmented_images:\n",
        "#     cv2.imwrite(os.path.join(ANC_PATH, '{}.jpg'.format(uuid.uuid1())), image.numpy())"
      ],
      "metadata": {
        "id": "B6fKZfm9ZlnA"
      },
      "execution_count": 18,
      "outputs": []
    },
    {
      "cell_type": "code",
      "source": [
        "# for file_name in os.listdir(os.path.join(POS_PATH)):\n",
        "#     img_path = os.path.join(POS_PATH, file_name)\n",
        "#     img = cv2.imread(img_path)\n",
        "#     augmented_images = data_aug(img) \n",
        "    \n",
        "#     for image in augmented_images:\n",
        "#         cv2.imwrite(os.path.join(POS_PATH, '{}.jpg'.format(uuid.uuid1())), image.numpy())"
      ],
      "metadata": {
        "id": "ckpAWO62aAk4"
      },
      "execution_count": 19,
      "outputs": []
    },
    {
      "cell_type": "markdown",
      "source": [
        "##Training"
      ],
      "metadata": {
        "id": "_6j4PVkdaJU0"
      }
    },
    {
      "cell_type": "code",
      "source": [
        "anc_path = '/content/gdrive/MyDrive/Job/face_recognizer_assignment/nic/data/anchor'\n",
        "pos_path = '/content/gdrive/MyDrive/Job/face_recognizer_assignment/nic/data/positive'\n",
        "neg_path = '/content/gdrive/MyDrive/Job/face_recognizer_assignment/nic/data/negative'"
      ],
      "metadata": {
        "id": "Mo2slSLWatBl"
      },
      "execution_count": 20,
      "outputs": []
    },
    {
      "cell_type": "code",
      "source": [
        "os.getcwd()"
      ],
      "metadata": {
        "colab": {
          "base_uri": "https://localhost:8080/",
          "height": 35
        },
        "id": "z8wjKzZubu1p",
        "outputId": "240e9af8-b4fe-4043-f7fa-f40c0d072093"
      },
      "execution_count": 21,
      "outputs": [
        {
          "output_type": "execute_result",
          "data": {
            "text/plain": [
              "'/content'"
            ],
            "application/vnd.google.colaboratory.intrinsic+json": {
              "type": "string"
            }
          },
          "metadata": {},
          "execution_count": 21
        }
      ]
    },
    {
      "cell_type": "code",
      "source": [
        "anchor = tf.data.Dataset.list_files('/content/gdrive/MyDrive/Job/face_recognizer_assignment/nic/data/anchor'+'/*.jpg').take(3000)\n",
        "positive = tf.data.Dataset.list_files('/content/gdrive/MyDrive/Job/face_recognizer_assignment/nic/data/positive'+'/*.jpg').take(3000)\n",
        "negative = tf.data.Dataset.list_files('/content/gdrive/MyDrive/Job/face_recognizer_assignment/nic/data/negative'+'/*.jpg').take(3000)"
      ],
      "metadata": {
        "id": "loRP6eU0aBGZ"
      },
      "execution_count": 22,
      "outputs": []
    },
    {
      "cell_type": "code",
      "source": [
        "dir_test = anchor.as_numpy_iterator()"
      ],
      "metadata": {
        "id": "eIWH3dr7aH4X"
      },
      "execution_count": 23,
      "outputs": []
    },
    {
      "cell_type": "code",
      "source": [
        "print(dir_test.next())"
      ],
      "metadata": {
        "colab": {
          "base_uri": "https://localhost:8080/"
        },
        "id": "Yxu6Mv0HaLjQ",
        "outputId": "a8c492c4-7fce-4bd1-e9f9-347572de42fc"
      },
      "execution_count": 24,
      "outputs": [
        {
          "output_type": "stream",
          "name": "stdout",
          "text": [
            "b'/content/gdrive/MyDrive/Job/face_recognizer_assignment/nic/data/anchor/056afb25-ae8c-11ec-9219-ace2d3687f38.jpg'\n"
          ]
        }
      ]
    },
    {
      "cell_type": "code",
      "source": [
        "def preprocess(file_path):\n",
        "    \n",
        "    # Read in image from file path\n",
        "    byte_img = tf.io.read_file(file_path)\n",
        "    # Load in the image \n",
        "    img = tf.io.decode_jpeg(byte_img)\n",
        "    \n",
        "    # Preprocessing steps - resizing the image to be 100x100x3\n",
        "    img = tf.image.resize(img, (100,100))\n",
        "    # Scale image to be between 0 and 1 \n",
        "    img = img / 255.0\n",
        "\n",
        "    # Return image\n",
        "    return img"
      ],
      "metadata": {
        "id": "jZzAQ0UHaOC_"
      },
      "execution_count": 25,
      "outputs": []
    },
    {
      "cell_type": "code",
      "source": [
        "positives = tf.data.Dataset.zip((anchor, positive, tf.data.Dataset.from_tensor_slices(tf.ones(len(anchor)))))\n",
        "negatives = tf.data.Dataset.zip((anchor, negative, tf.data.Dataset.from_tensor_slices(tf.zeros(len(anchor)))))\n",
        "data = positives.concatenate(negatives)"
      ],
      "metadata": {
        "id": "I43VfOL5nJPs"
      },
      "execution_count": 27,
      "outputs": []
    },
    {
      "cell_type": "code",
      "source": [
        "samples = data.as_numpy_iterator()\n",
        "exampple = samples.next()\n",
        "exampple"
      ],
      "metadata": {
        "colab": {
          "base_uri": "https://localhost:8080/"
        },
        "id": "bJg3VrQ2nNFt",
        "outputId": "9da5f44f-108a-46d9-a14b-32ef4fde13aa"
      },
      "execution_count": 39,
      "outputs": [
        {
          "output_type": "execute_result",
          "data": {
            "text/plain": [
              "(b'/content/gdrive/MyDrive/Job/face_recognizer_assignment/nic/data/anchor/0d43ac2c-ae8c-11ec-9e90-ace2d3687f38.jpg',\n",
              " b'/content/gdrive/MyDrive/Job/face_recognizer_assignment/nic/data/positive/1711cec8-ae8f-11ec-8c19-0242ac1c0002.jpg',\n",
              " 1.0)"
            ]
          },
          "metadata": {},
          "execution_count": 39
        }
      ]
    },
    {
      "cell_type": "code",
      "source": [
        "def preprocess_twin(input_img, validation_img, label):\n",
        "    return(preprocess(input_img), preprocess(validation_img), label)"
      ],
      "metadata": {
        "id": "GCBcXFcynS7Y"
      },
      "execution_count": 29,
      "outputs": []
    },
    {
      "cell_type": "code",
      "source": [
        "res = preprocess_twin(*exampple)"
      ],
      "metadata": {
        "id": "mF6cTjqsnW6W"
      },
      "execution_count": 40,
      "outputs": []
    },
    {
      "cell_type": "code",
      "source": [
        "plt.imshow(res[0])"
      ],
      "metadata": {
        "colab": {
          "base_uri": "https://localhost:8080/",
          "height": 286
        },
        "id": "aixpWmRDnZnt",
        "outputId": "5d58d007-1555-45a3-c028-6240d0c868fd"
      },
      "execution_count": 41,
      "outputs": [
        {
          "output_type": "execute_result",
          "data": {
            "text/plain": [
              "<matplotlib.image.AxesImage at 0x7f7c364db7d0>"
            ]
          },
          "metadata": {},
          "execution_count": 41
        },
        {
          "output_type": "display_data",
          "data": {
            "text/plain": [
              "<Figure size 432x288 with 1 Axes>"
            ],
            "image/png": "[encoded data removed]"
          },
          "metadata": {
            "needs_background": "light"
          }
        }
      ]
    },
    {
      "cell_type": "code",
      "source": [
        "# Build dataloader pipeline\n",
        "data = data.map(preprocess_twin)\n",
        "data = data.cache()\n",
        "data = data.shuffle(buffer_size=10000)"
      ],
      "metadata": {
        "id": "0mYmL7AJnbrr"
      },
      "execution_count": 42,
      "outputs": []
    },
    {
      "cell_type": "code",
      "source": [
        "# Training partition\n",
        "train_data = data.take(round(len(data)*.7))\n",
        "train_data = train_data.batch(16)\n",
        "train_data = train_data.prefetch(8)"
      ],
      "metadata": {
        "id": "bqp45zXjoqaX"
      },
      "execution_count": 43,
      "outputs": []
    },
    {
      "cell_type": "code",
      "source": [
        "# Testing partition\n",
        "test_data = data.skip(round(len(data)*.7))\n",
        "test_data = test_data.take(round(len(data)*.3))\n",
        "test_data = test_data.batch(16)\n",
        "test_data = test_data.prefetch(8)"
      ],
      "metadata": {
        "id": "qp0WAJ8aot2f"
      },
      "execution_count": 44,
      "outputs": []
    },
    {
      "cell_type": "code",
      "source": [
        "round(len(data)*.7)"
      ],
      "metadata": {
        "colab": {
          "base_uri": "https://localhost:8080/"
        },
        "id": "ej9Fyy43owsE",
        "outputId": "51b649ad-9261-4828-a503-2d526f228560"
      },
      "execution_count": 45,
      "outputs": [
        {
          "output_type": "execute_result",
          "data": {
            "text/plain": [
              "686"
            ]
          },
          "metadata": {},
          "execution_count": 45
        }
      ]
    },
    {
      "cell_type": "code",
      "source": [
        "def make_embedding(): \n",
        "    inp = Input(shape=(100,100,3), name='input_image')\n",
        "    \n",
        "    # First block\n",
        "    c1 = Conv2D(64, (10,10), activation='relu')(inp)\n",
        "    m1 = MaxPooling2D(64, (2,2), padding='same')(c1)\n",
        "    \n",
        "    # Second block\n",
        "    c2 = Conv2D(128, (7,7), activation='relu')(m1)\n",
        "    m2 = MaxPooling2D(64, (2,2), padding='same')(c2)\n",
        "    \n",
        "    # Third block \n",
        "    c3 = Conv2D(128, (4,4), activation='relu')(m2)\n",
        "    m3 = MaxPooling2D(64, (2,2), padding='same')(c3)\n",
        "    \n",
        "    # Final embedding block\n",
        "    c4 = Conv2D(256, (4,4), activation='relu')(m3)\n",
        "    f1 = Flatten()(c4)\n",
        "    d1 = Dense(4096, activation='sigmoid')(f1)\n",
        "    \n",
        "    \n",
        "    return Model(inputs=[inp], outputs=[d1], name='embedding')"
      ],
      "metadata": {
        "id": "W7LrMu2fpkWA"
      },
      "execution_count": 46,
      "outputs": []
    },
    {
      "cell_type": "code",
      "source": [
        "embedding = make_embedding()\n",
        "embedding.summary()"
      ],
      "metadata": {
        "colab": {
          "base_uri": "https://localhost:8080/"
        },
        "id": "Af46JD8jpnLG",
        "outputId": "b33bf831-2055-46af-9f5f-cfa566e718b1"
      },
      "execution_count": 47,
      "outputs": [
        {
          "output_type": "stream",
          "name": "stdout",
          "text": [
            "Model: \"embedding\"\n",
            "_________________________________________________________________\n",
            " Layer (type)                Output Shape              Param #   \n",
            "=================================================================\n",
            " input_image (InputLayer)    [(None, 100, 100, 3)]     0         \n",
            "                                                                 \n",
            " conv2d (Conv2D)             (None, 91, 91, 64)        19264     \n",
            "                                                                 \n",
            " max_pooling2d (MaxPooling2D  (None, 46, 46, 64)       0         \n",
            " )                                                               \n",
            "                                                                 \n",
            " conv2d_1 (Conv2D)           (None, 40, 40, 128)       401536    \n",
            "                                                                 \n",
            " max_pooling2d_1 (MaxPooling  (None, 20, 20, 128)      0         \n",
            " 2D)                                                             \n",
            "                                                                 \n",
            " conv2d_2 (Conv2D)           (None, 17, 17, 128)       262272    \n",
            "                                                                 \n",
            " max_pooling2d_2 (MaxPooling  (None, 9, 9, 128)        0         \n",
            " 2D)                                                             \n",
            "                                                                 \n",
            " conv2d_3 (Conv2D)           (None, 6, 6, 256)         524544    \n",
            "                                                                 \n",
            " flatten (Flatten)           (None, 9216)              0         \n",
            "                                                                 \n",
            " dense (Dense)               (None, 4096)              37752832  \n",
            "                                                                 \n",
            "=================================================================\n",
            "Total params: 38,960,448\n",
            "Trainable params: 38,960,448\n",
            "Non-trainable params: 0\n",
            "_________________________________________________________________\n"
          ]
        }
      ]
    },
    {
      "cell_type": "code",
      "source": [
        "# Siamese L1 Distance class\n",
        "class L1Dist(Layer):\n",
        "    \n",
        "    # Init method - inheritance\n",
        "    def __init__(self, **kwargs):\n",
        "        super().__init__()\n",
        "       \n",
        "    # Magic happens here - similarity calculation\n",
        "    def call(self, input_embedding, validation_embedding):\n",
        "        return tf.math.abs(input_embedding - validation_embedding)"
      ],
      "metadata": {
        "id": "qAhANe4fpsj1"
      },
      "execution_count": 48,
      "outputs": []
    },
    {
      "cell_type": "code",
      "source": [
        "l1 = L1Dist()\n",
        "#l1(anchor_embedding, validation_embedding)"
      ],
      "metadata": {
        "id": "M4SGxTdSp2Ow"
      },
      "execution_count": 49,
      "outputs": []
    },
    {
      "cell_type": "code",
      "source": [
        "def make_siamese_model(): \n",
        "    \n",
        "    # Anchor image input in the network\n",
        "    input_image = Input(name='input_img', shape=(100,100,3))\n",
        "    \n",
        "    # Validation image in the network \n",
        "    validation_image = Input(name='validation_img', shape=(100,100,3))\n",
        "    \n",
        "    # Combine siamese distance components\n",
        "    siamese_layer = L1Dist()\n",
        "    siamese_layer._name = 'distance'\n",
        "    distances = siamese_layer(embedding(input_image), embedding(validation_image))\n",
        "    \n",
        "    # Classification layer \n",
        "    classifier = Dense(1, activation='sigmoid')(distances)\n",
        "    \n",
        "    return Model(inputs=[input_image, validation_image], outputs=classifier, name='SiameseNetwork')"
      ],
      "metadata": {
        "id": "MZxyTAxEp6Sg"
      },
      "execution_count": 50,
      "outputs": []
    },
    {
      "cell_type": "code",
      "source": [
        "siamese_model = make_siamese_model()\n",
        "siamese_model.summary()"
      ],
      "metadata": {
        "colab": {
          "base_uri": "https://localhost:8080/"
        },
        "id": "CfIVhVNgqJ10",
        "outputId": "311cbdc8-5239-46ca-91c6-88699a3a7ab8"
      },
      "execution_count": 51,
      "outputs": [
        {
          "output_type": "stream",
          "name": "stdout",
          "text": [
            "Model: \"SiameseNetwork\"\n",
            "__________________________________________________________________________________________________\n",
            " Layer (type)                   Output Shape         Param #     Connected to                     \n",
            "==================================================================================================\n",
            " input_img (InputLayer)         [(None, 100, 100, 3  0           []                               \n",
            "                                )]                                                                \n",
            "                                                                                                  \n",
            " validation_img (InputLayer)    [(None, 100, 100, 3  0           []                               \n",
            "                                )]                                                                \n",
            "                                                                                                  \n",
            " embedding (Functional)         (None, 4096)         38960448    ['input_img[0][0]',              \n",
            "                                                                  'validation_img[0][0]']         \n",
            "                                                                                                  \n",
            " distance (L1Dist)              (None, 4096)         0           ['embedding[0][0]',              \n",
            "                                                                  'embedding[1][0]']              \n",
            "                                                                                                  \n",
            " dense_1 (Dense)                (None, 1)            4097        ['distance[0][0]']               \n",
            "                                                                                                  \n",
            "==================================================================================================\n",
            "Total params: 38,964,545\n",
            "Trainable params: 38,964,545\n",
            "Non-trainable params: 0\n",
            "__________________________________________________________________________________________________\n"
          ]
        }
      ]
    },
    {
      "cell_type": "code",
      "source": [
        "binary_cross_loss = tf.losses.BinaryCrossentropy()\n",
        "opt = tf.keras.optimizers.Adam(1e-4) # 0.0001\n"
      ],
      "metadata": {
        "id": "oAX9wrrPqNLQ"
      },
      "execution_count": 52,
      "outputs": []
    },
    {
      "cell_type": "code",
      "source": [
        "checkpoint_dir = './training_checkpoints'\n",
        "checkpoint_prefix = os.path.join(checkpoint_dir, 'ckpt')\n",
        "checkpoint = tf.train.Checkpoint(opt=opt, siamese_model=siamese_model)\n",
        "manager = tf.train.CheckpointManager(ckpt, './tf_ckpts', max_to_keep=3)"
      ],
      "metadata": {
        "id": "mKeLUnlhqVCs"
      },
      "execution_count": 54,
      "outputs": []
    },
    {
      "cell_type": "code",
      "source": [
        "@tf.function\n",
        "def train_step(batch):\n",
        "    \n",
        "    # Record all of our operations \n",
        "    with tf.GradientTape() as tape:     \n",
        "        # Get anchor and positive/negative image\n",
        "        X = batch[:2]\n",
        "        # Get label\n",
        "        y = batch[2]\n",
        "        \n",
        "        # Forward pass\n",
        "        yhat = siamese_model(X, training=True)\n",
        "        # Calculate loss\n",
        "        loss = binary_cross_loss(y, yhat)\n",
        "    print(loss)\n",
        "        \n",
        "    # Calculate gradients\n",
        "    grad = tape.gradient(loss, siamese_model.trainable_variables)\n",
        "    \n",
        "    # Calculate updated weights and apply to siamese model\n",
        "    opt.apply_gradients(zip(grad, siamese_model.trainable_variables))\n",
        "        \n",
        "    # Return loss\n",
        "    return loss"
      ],
      "metadata": {
        "id": "jxbgTSzeqW33"
      },
      "execution_count": 63,
      "outputs": []
    },
    {
      "cell_type": "code",
      "source": [
        "# Import metric calculations\n",
        "from tensorflow.keras.metrics import Precision, Recall"
      ],
      "metadata": {
        "id": "l1cp0sfhqbwr"
      },
      "execution_count": 64,
      "outputs": []
    },
    {
      "cell_type": "code",
      "source": [
        "def train(data, EPOCHS):\n",
        "    # Loop through epochs\n",
        "    for epoch in range(1, EPOCHS+1):\n",
        "        print('\\n Epoch {}/{}'.format(epoch, EPOCHS))\n",
        "        progbar = tf.keras.utils.Progbar(len(data))\n",
        "        \n",
        "        # Creating a metric object \n",
        "        r = Recall()\n",
        "        p = Precision()\n",
        "        \n",
        "        # Loop through each batch\n",
        "        for idx, batch in enumerate(data):\n",
        "            # Run train step here\n",
        "            loss = train_step(batch)\n",
        "            yhat = siamese_model.predict(batch[:2])\n",
        "            r.update_state(batch[2], yhat)\n",
        "            p.update_state(batch[2], yhat) \n",
        "            progbar.update(idx+1)\n",
        "        print(loss.numpy(), r.result().numpy(), p.result().numpy())\n",
        "        \n",
        "        # Save checkpoints\n",
        "        if epoch % 10 == 0: \n",
        "            checkpoint.save(file_prefix=checkpoint_prefix)"
      ],
      "metadata": {
        "id": "2qnoirueqeGr"
      },
      "execution_count": 65,
      "outputs": []
    },
    {
      "cell_type": "code",
      "source": [
        "EPOCHS = 50"
      ],
      "metadata": {
        "id": "1E6qitKZqgyI"
      },
      "execution_count": 66,
      "outputs": []
    },
    {
      "cell_type": "code",
      "source": [
        "train(train_data, EPOCHS)"
      ],
      "metadata": {
        "colab": {
          "base_uri": "https://localhost:8080/"
        },
        "id": "4RJhSL5kqjcb",
        "outputId": "bf38a6e4-eb21-4e42-97fc-f661a0e71e2b"
      },
      "execution_count": null,
      "outputs": [
        {
          "output_type": "stream",
          "name": "stdout",
          "text": [
            "\n",
            " Epoch 1/500\n",
            "Tensor(\"binary_crossentropy/weighted_loss/value:0\", shape=(), dtype=float32)\n",
            "Tensor(\"binary_crossentropy/weighted_loss/value:0\", shape=(), dtype=float32)\n",
            "42/43 [============================>.] - ETA: 1sTensor(\"binary_crossentropy/weighted_loss/value:0\", shape=(), dtype=float32)\n",
            "43/43 [==============================] - 525s 1s/step\n",
            "0.0711672 0.7535014 1.0\n",
            "\n",
            " Epoch 2/500\n",
            "43/43 [==============================] - 46s 1s/step\n",
            "0.0020223379 0.9877301 0.9877301\n",
            "\n",
            " Epoch 3/500\n",
            "43/43 [==============================] - 47s 1s/step\n",
            "0.0012368661 0.99715906 1.0\n",
            "\n",
            " Epoch 4/500\n",
            "43/43 [==============================] - 45s 1s/step\n",
            "0.0010802895 1.0 1.0\n",
            "\n",
            " Epoch 5/500\n",
            "43/43 [==============================] - 46s 1s/step\n",
            "0.0005421682 1.0 1.0\n",
            "\n",
            " Epoch 6/500\n",
            "43/43 [==============================] - 46s 1s/step\n",
            "0.022434464 1.0 1.0\n",
            "\n",
            " Epoch 7/500\n",
            "43/43 [==============================] - 45s 1s/step\n",
            "0.009069897 1.0 1.0\n",
            "\n",
            " Epoch 8/500\n",
            "43/43 [==============================] - 48s 1s/step\n",
            "3.432327e-05 1.0 1.0\n",
            "\n",
            " Epoch 9/500\n",
            "43/43 [==============================] - 45s 1s/step\n",
            "0.10575259 0.9446064 0.9908257\n",
            "\n",
            " Epoch 10/500\n",
            "43/43 [==============================] - 45s 1s/step\n",
            "0.002517462 0.99421966 0.9971014\n",
            "\n",
            " Epoch 11/500\n",
            "43/43 [==============================] - 44s 1s/step\n",
            "0.007182942 0.9941176 1.0\n",
            "\n",
            " Epoch 12/500\n",
            "43/43 [==============================] - 45s 1s/step\n",
            "0.0024996113 0.99714285 1.0\n",
            "\n",
            " Epoch 13/500\n",
            "43/43 [==============================] - 43s 1s/step\n",
            "6.7694106e-07 1.0 1.0\n",
            "\n",
            " Epoch 14/500\n",
            "43/43 [==============================] - 45s 1s/step\n",
            "0.014686133 1.0 1.0\n",
            "\n",
            " Epoch 15/500\n",
            "43/43 [==============================] - 43s 993ms/step\n",
            "2.0861798e-06 1.0 1.0\n",
            "\n",
            " Epoch 16/500\n",
            "43/43 [==============================] - 45s 1s/step\n",
            "0.00032752688 1.0 1.0\n",
            "\n",
            " Epoch 17/500\n",
            "43/43 [==============================] - 44s 1s/step\n",
            "3.5296736e-05 1.0 1.0\n",
            "\n",
            " Epoch 18/500\n",
            "43/43 [==============================] - 43s 1s/step\n",
            "9.986716e-05 1.0 1.0\n",
            "\n",
            " Epoch 19/500\n",
            "43/43 [==============================] - 43s 1s/step\n",
            "0.00011794722 1.0 1.0\n",
            "\n",
            " Epoch 20/500\n",
            "43/43 [==============================] - 44s 1s/step\n",
            "0.00018182388 1.0 1.0\n",
            "\n",
            " Epoch 21/500\n",
            "43/43 [==============================] - 45s 1s/step\n",
            "0.00077983673 1.0 1.0\n",
            "\n",
            " Epoch 22/500\n",
            "43/43 [==============================] - 43s 996ms/step\n",
            "8.2043545e-05 1.0 1.0\n",
            "\n",
            " Epoch 23/500\n",
            "43/43 [==============================] - 45s 1s/step\n",
            "0.00017132217 1.0 1.0\n",
            "\n",
            " Epoch 24/500\n",
            "43/43 [==============================] - 45s 1s/step\n",
            "6.620422e-05 1.0 1.0\n",
            "\n",
            " Epoch 25/500\n",
            "43/43 [==============================] - 46s 1s/step\n",
            "2.085065e-05 1.0 1.0\n",
            "\n",
            " Epoch 26/500\n",
            "43/43 [==============================] - 45s 1s/step\n",
            "0.00036985351 1.0 1.0\n",
            "\n",
            " Epoch 27/500\n",
            "43/43 [==============================] - 45s 1s/step\n",
            "0.0001416481 1.0 1.0\n",
            "\n",
            " Epoch 28/500\n",
            "43/43 [==============================] - 45s 1s/step\n",
            "5.21806e-05 1.0 1.0\n",
            "\n",
            " Epoch 29/500\n",
            "43/43 [==============================] - 44s 1s/step\n",
            "0.00059130794 1.0 1.0\n",
            "\n",
            " Epoch 30/500\n",
            "43/43 [==============================] - 43s 991ms/step\n",
            "1.2228498e-05 1.0 1.0\n",
            "\n",
            " Epoch 31/500\n",
            "43/43 [==============================] - 45s 1s/step\n",
            "4.48745e-06 1.0 1.0\n",
            "\n",
            " Epoch 32/500\n",
            "43/43 [==============================] - 43s 997ms/step\n",
            "3.0095009e-05 1.0 1.0\n",
            "\n",
            " Epoch 33/500\n",
            "43/43 [==============================] - 45s 1s/step\n",
            "3.1079603e-07 1.0 1.0\n",
            "\n",
            " Epoch 34/500\n",
            "43/43 [==============================] - 45s 1s/step\n",
            "8.5149505e-09 1.0 1.0\n",
            "\n",
            " Epoch 35/500\n",
            "43/43 [==============================] - 42s 986ms/step\n",
            "1.9712256e-06 1.0 1.0\n",
            "\n",
            " Epoch 36/500\n",
            "43/43 [==============================] - 45s 1s/step\n",
            "5.5310793e-05 1.0 1.0\n",
            "\n",
            " Epoch 37/500\n",
            "43/43 [==============================] - 45s 1s/step\n",
            "1.7029901e-08 1.0 1.0\n",
            "\n",
            " Epoch 38/500\n",
            "43/43 [==============================] - 46s 1s/step\n",
            "3.7428694e-05 1.0 1.0\n",
            "\n",
            " Epoch 39/500\n",
            "43/43 [==============================] - 44s 1s/step\n",
            "1.724291e-06 1.0 1.0\n",
            "\n",
            " Epoch 40/500\n",
            "43/43 [==============================] - 44s 1s/step\n",
            "0.0003581268 1.0 1.0\n",
            "\n",
            " Epoch 41/500\n",
            "43/43 [==============================] - 45s 1s/step\n",
            "0.00029178942 1.0 1.0\n",
            "\n",
            " Epoch 42/500\n",
            "43/43 [==============================] - 41s 949ms/step\n",
            "1.5028997e-06 1.0 1.0\n",
            "\n",
            " Epoch 43/500\n",
            "43/43 [==============================] - 43s 1s/step\n",
            "3.0750405e-05 1.0 1.0\n",
            "\n",
            " Epoch 44/500\n",
            "43/43 [==============================] - 44s 1s/step\n",
            "0.00011264669 1.0 1.0\n",
            "\n",
            " Epoch 45/500\n",
            "43/43 [==============================] - 45s 1s/step\n",
            "4.5520264e-05 1.0 1.0\n",
            "\n",
            " Epoch 46/500\n",
            "43/43 [==============================] - 45s 1s/step\n",
            "0.0002128595 1.0 1.0\n",
            "\n",
            " Epoch 47/500\n",
            "43/43 [==============================] - 43s 1s/step\n",
            "-0.0 1.0 1.0\n",
            "\n",
            " Epoch 48/500\n",
            "43/43 [==============================] - 44s 1s/step\n",
            "-0.0 1.0 1.0\n",
            "\n",
            " Epoch 49/500\n",
            "43/43 [==============================] - 44s 1s/step\n",
            "4.0868596e-05 1.0 1.0\n",
            "\n",
            " Epoch 50/500\n",
            "43/43 [==============================] - 43s 1s/step\n",
            "7.4080344e-07 1.0 1.0\n",
            "\n",
            " Epoch 51/500\n",
            "43/43 [==============================] - 44s 1s/step\n",
            "8.15796e-05 1.0 1.0\n",
            "\n",
            " Epoch 52/500\n",
            "43/43 [==============================] - 44s 1s/step\n",
            "2.5417562e-06 1.0 1.0\n",
            "\n",
            " Epoch 53/500\n",
            "43/43 [==============================] - 43s 995ms/step\n",
            "0.00015705943 1.0 1.0\n",
            "\n",
            " Epoch 54/500\n",
            "43/43 [==============================] - 44s 1s/step\n",
            "0.00017930775 1.0 1.0\n",
            "\n",
            " Epoch 55/500\n",
            "43/43 [==============================] - 42s 985ms/step\n",
            "0.00010372749 1.0 1.0\n",
            "\n",
            " Epoch 56/500\n",
            "43/43 [==============================] - 43s 1s/step\n",
            "5.960466e-08 1.0 1.0\n",
            "\n",
            " Epoch 57/500\n",
            "43/43 [==============================] - 43s 995ms/step\n",
            "0.00013909324 1.0 1.0\n",
            "\n",
            " Epoch 58/500\n",
            "43/43 [==============================] - 43s 1s/step\n",
            "8.5149505e-09 1.0 1.0\n",
            "\n",
            " Epoch 59/500\n",
            "43/43 [==============================] - 45s 1s/step\n",
            "1.592308e-06 1.0 1.0\n",
            "\n",
            " Epoch 60/500\n",
            "43/43 [==============================] - 44s 1s/step\n",
            "1.2517082e-06 1.0 1.0\n",
            "\n",
            " Epoch 61/500\n",
            "43/43 [==============================] - 45s 1s/step\n",
            "8.940701e-08 1.0 1.0\n",
            "\n",
            " Epoch 62/500\n",
            "43/43 [==============================] - 43s 986ms/step\n",
            "1.617842e-07 1.0 1.0\n",
            "\n",
            " Epoch 63/500\n",
            "43/43 [==============================] - 44s 1s/step\n",
            "2.2673126e-05 1.0 1.0\n",
            "\n",
            " Epoch 64/500\n",
            "43/43 [==============================] - 43s 1s/step\n",
            "5.3983884e-05 1.0 1.0\n",
            "\n",
            " Epoch 65/500\n",
            "43/43 [==============================] - 43s 994ms/step\n",
            "1.941435e-06 1.0 1.0\n",
            "\n",
            " Epoch 66/500\n",
            "43/43 [==============================] - 46s 1s/step\n",
            "5.5347183e-08 1.0 1.0\n",
            "\n",
            " Epoch 67/500\n",
            "43/43 [==============================] - 46s 1s/step\n",
            "1.0430869e-06 1.0 1.0\n",
            "\n",
            " Epoch 68/500\n",
            "43/43 [==============================] - 43s 1s/step\n",
            "2.2990388e-07 1.0 1.0\n",
            "\n",
            " Epoch 69/500\n",
            "43/43 [==============================] - 42s 976ms/step\n",
            "9.303163e-06 1.0 1.0\n",
            "\n",
            " Epoch 70/500\n",
            "43/43 [==============================] - 43s 1s/step\n",
            "2.277186e-05 1.0 1.0\n",
            "\n",
            " Epoch 71/500\n",
            "43/43 [==============================] - 45s 1s/step\n",
            "4.3973552e-05 1.0 1.0\n",
            "\n",
            " Epoch 72/500\n",
            "43/43 [==============================] - 44s 1s/step\n",
            "5.3219587e-06 1.0 1.0\n",
            "\n",
            " Epoch 73/500\n",
            "43/43 [==============================] - 43s 999ms/step\n",
            "1.660417e-07 1.0 1.0\n",
            "\n",
            " Epoch 74/500\n",
            "43/43 [==============================] - 44s 1s/step\n",
            "1.0686335e-06 1.0 1.0\n",
            "\n",
            " Epoch 75/500\n",
            "43/43 [==============================] - 43s 996ms/step\n",
            "3.8705235e-05 1.0 1.0\n",
            "\n",
            " Epoch 76/500\n",
            "43/43 [==============================] - 43s 1s/step\n",
            "1.1921029e-06 1.0 1.0\n",
            "\n",
            " Epoch 77/500\n",
            "43/43 [==============================] - 44s 1s/step\n",
            "2.5374998e-06 1.0 1.0\n",
            "\n",
            " Epoch 78/500\n",
            "43/43 [==============================] - 44s 1s/step\n",
            "7.1527006e-06 1.0 1.0\n",
            "\n",
            " Epoch 79/500\n",
            "43/43 [==============================] - 42s 988ms/step\n",
            "3.4059806e-08 1.0 1.0\n",
            "\n",
            " Epoch 80/500\n",
            "43/43 [==============================] - 45s 1s/step\n",
            "2.2650124e-06 1.0 1.0\n",
            "\n",
            " Epoch 81/500\n",
            "43/43 [==============================] - 44s 1s/step\n",
            "7.3743263e-06 1.0 1.0\n",
            "\n",
            " Epoch 82/500\n",
            "43/43 [==============================] - 42s 971ms/step\n",
            "1.0337463e-05 1.0 1.0\n",
            "\n",
            " Epoch 83/500\n",
            "43/43 [==============================] - 44s 1s/step\n",
            "7.635601e-05 1.0 1.0\n",
            "\n",
            " Epoch 84/500\n",
            "43/43 [==============================] - 44s 1s/step\n",
            "4.8535315e-07 1.0 1.0\n",
            "\n",
            " Epoch 85/500\n",
            "43/43 [==============================] - 45s 1s/step\n",
            "1.8563767e-05 1.0 1.0\n",
            "\n",
            " Epoch 86/500\n",
            "43/43 [==============================] - 45s 1s/step\n",
            "1.5247644e-05 1.0 1.0\n",
            "\n",
            " Epoch 87/500\n",
            "43/43 [==============================] - 44s 1s/step\n",
            "4.6832238e-08 1.0 1.0\n",
            "\n",
            " Epoch 88/500\n",
            "43/43 [==============================] - 45s 1s/step\n",
            "3.9812334e-05 1.0 1.0\n",
            "\n",
            " Epoch 89/500\n",
            "43/43 [==============================] - 45s 1s/step\n",
            "-0.0 1.0 1.0\n",
            "\n",
            " Epoch 90/500\n",
            "43/43 [==============================] - 45s 1s/step\n",
            "1.8501116e-05 1.0 1.0\n",
            "\n",
            " Epoch 91/500\n",
            "43/43 [==============================] - 45s 1s/step\n",
            "-0.0 1.0 1.0\n",
            "\n",
            " Epoch 92/500\n",
            "43/43 [==============================] - 45s 1s/step\n",
            "4.9387572e-06 1.0 1.0\n",
            "\n",
            " Epoch 93/500\n",
            "43/43 [==============================] - 43s 987ms/step\n",
            "1.5903437e-05 1.0 1.0\n",
            "\n",
            " Epoch 94/500\n",
            "43/43 [==============================] - 43s 994ms/step\n",
            "2.3841898e-07 1.0 1.0\n",
            "\n",
            " Epoch 95/500\n",
            "43/43 [==============================] - 43s 1s/step\n",
            "2.4073173e-05 1.0 1.0\n",
            "\n",
            " Epoch 96/500\n",
            "43/43 [==============================] - 45s 1s/step\n",
            "-0.0 1.0 1.0\n",
            "\n",
            " Epoch 97/500\n",
            "43/43 [==============================] - 46s 1s/step\n",
            "3.1037323e-06 1.0 1.0\n",
            "\n",
            " Epoch 98/500\n",
            "43/43 [==============================] - 43s 1s/step\n",
            "1.941435e-06 1.0 1.0\n",
            "\n",
            " Epoch 99/500\n",
            "43/43 [==============================] - 45s 1s/step\n",
            "7.6634585e-08 1.0 1.0\n",
            "\n",
            " Epoch 100/500\n",
            "43/43 [==============================] - 45s 1s/step\n",
            "8.5149505e-09 1.0 1.0\n",
            "\n",
            " Epoch 101/500\n",
            "43/43 [==============================] - 45s 1s/step\n",
            "9.1110536e-07 1.0 1.0\n",
            "\n",
            " Epoch 102/500\n",
            "43/43 [==============================] - 44s 1s/step\n",
            "2.98881e-06 1.0 1.0\n",
            "\n",
            " Epoch 103/500\n",
            "43/43 [==============================] - 44s 1s/step\n",
            "3.49973e-06 1.0 1.0\n",
            "\n",
            " Epoch 104/500\n",
            "43/43 [==============================] - 44s 1s/step\n",
            "3.5185923e-05 1.0 1.0\n",
            "\n",
            " Epoch 105/500\n",
            "43/43 [==============================] - 44s 1s/step\n",
            "4.5402998e-05 1.0 1.0\n",
            "\n",
            " Epoch 106/500\n",
            "43/43 [==============================] - 44s 1s/step\n",
            "2.8761e-05 1.0 1.0\n",
            "\n",
            " Epoch 107/500\n",
            "43/43 [==============================] - 44s 1s/step\n",
            "8.893529e-05 1.0 1.0\n",
            "\n",
            " Epoch 108/500\n",
            "43/43 [==============================] - 43s 1s/step\n",
            "-0.0 1.0 1.0\n",
            "\n",
            " Epoch 109/500\n",
            "43/43 [==============================] - 45s 1s/step\n",
            "9.919951e-07 1.0 1.0\n",
            "\n",
            " Epoch 110/500\n",
            "43/43 [==============================] - 44s 1s/step\n",
            "2.5544892e-07 1.0 1.0\n",
            "\n",
            " Epoch 111/500\n",
            "43/43 [==============================] - 45s 1s/step\n",
            "2.7248238e-06 1.0 1.0\n",
            "\n",
            " Epoch 112/500\n",
            "43/43 [==============================] - 44s 1s/step\n",
            "3.976573e-06 1.0 1.0\n",
            "\n",
            " Epoch 113/500\n",
            "43/43 [==============================] - 44s 1s/step\n",
            "1.1154671e-06 1.0 1.0\n",
            "\n",
            " Epoch 114/500\n",
            "43/43 [==============================] - 42s 988ms/step\n",
            "1.583798e-06 1.0 1.0\n",
            "\n",
            " Epoch 115/500\n",
            "43/43 [==============================] - 44s 1s/step\n",
            "1.4603195e-06 1.0 1.0\n",
            "\n",
            " Epoch 116/500\n",
            "43/43 [==============================] - 43s 997ms/step\n",
            "-0.0 1.0 1.0\n",
            "\n",
            " Epoch 117/500\n",
            "43/43 [==============================] - 43s 988ms/step\n",
            "3.7040107e-07 1.0 1.0\n",
            "\n",
            " Epoch 118/500\n",
            "43/43 [==============================] - 44s 1s/step\n",
            "2.2522297e-06 1.0 1.0\n",
            "\n",
            " Epoch 119/500\n",
            "43/43 [==============================] - 44s 1s/step\n",
            "6.207575e-06 1.0 1.0\n",
            "\n",
            " Epoch 120/500\n",
            "43/43 [==============================] - 45s 1s/step\n",
            "3.448559e-07 1.0 1.0\n",
            "\n",
            " Epoch 121/500\n",
            "43/43 [==============================] - 46s 1s/step\n",
            "1.0005127e-06 1.0 1.0\n",
            "\n",
            " Epoch 122/500\n",
            "43/43 [==============================] - 45s 1s/step\n",
            "-0.0 1.0 1.0\n",
            "\n",
            " Epoch 123/500\n",
            "43/43 [==============================] - 45s 1s/step\n",
            "2.8355346e-06 1.0 1.0\n",
            "\n",
            " Epoch 124/500\n",
            "43/43 [==============================] - 44s 1s/step\n",
            "2.2990723e-06 1.0 1.0\n",
            "\n",
            " Epoch 125/500\n",
            "43/43 [==============================] - 46s 1s/step\n",
            "9.273382e-06 1.0 1.0\n",
            "\n",
            " Epoch 126/500\n",
            "43/43 [==============================] - 44s 1s/step\n",
            "1.0260554e-06 1.0 1.0\n",
            "\n",
            " Epoch 127/500\n",
            "43/43 [==============================] - 46s 1s/step\n",
            "8.132016e-06 1.0 1.0\n",
            "\n",
            " Epoch 128/500\n",
            "43/43 [==============================] - 43s 1s/step\n",
            "8.268301e-06 1.0 1.0\n",
            "\n",
            " Epoch 129/500\n",
            "43/43 [==============================] - 44s 1s/step\n",
            "8.77045e-07 1.0 1.0\n",
            "\n",
            " Epoch 130/500\n",
            "43/43 [==============================] - 45s 1s/step\n",
            "9.766998e-06 1.0 1.0\n",
            "\n",
            " Epoch 131/500\n",
            "43/43 [==============================] - 44s 1s/step\n",
            "5.2367914e-06 1.0 1.0\n",
            "\n",
            " Epoch 132/500\n",
            "43/43 [==============================] - 43s 1s/step\n",
            "1.2346688e-07 1.0 1.0\n",
            "\n",
            " Epoch 133/500\n",
            "43/43 [==============================] - 43s 996ms/step\n",
            "2.8440302e-06 1.0 1.0\n",
            "\n",
            " Epoch 134/500\n",
            "43/43 [==============================] - 44s 1s/step\n",
            "2.2053948e-06 1.0 1.0\n",
            "\n",
            " Epoch 135/500\n",
            "43/43 [==============================] - 43s 988ms/step\n",
            "1.6178421e-07 1.0 1.0\n",
            "\n",
            " Epoch 136/500\n",
            "43/43 [==============================] - 44s 1s/step\n",
            "1.209131e-06 1.0 1.0\n",
            "\n",
            " Epoch 137/500\n",
            "43/43 [==============================] - 45s 1s/step\n",
            "3.661476e-06 1.0 1.0\n",
            "\n",
            " Epoch 138/500\n",
            "43/43 [==============================] - 44s 1s/step\n",
            "1.3623932e-07 1.0 1.0\n",
            "\n",
            " Epoch 139/500\n",
            "43/43 [==============================] - 44s 1s/step\n",
            "1.5454726e-06 1.0 1.0\n",
            "\n",
            " Epoch 140/500\n",
            "43/43 [==============================] - 43s 996ms/step\n",
            "4.257481e-07 1.0 1.0\n",
            "\n",
            " Epoch 141/500\n",
            "43/43 [==============================] - 45s 1s/step\n",
            "3.1207503e-06 1.0 1.0\n",
            "\n",
            " Epoch 142/500\n",
            "43/43 [==============================] - 45s 1s/step\n",
            "3.9254996e-06 1.0 1.0\n",
            "\n",
            " Epoch 143/500\n",
            "43/43 [==============================] - 44s 1s/step\n",
            "1.0558615e-06 1.0 1.0\n",
            "\n",
            " Epoch 144/500\n",
            "43/43 [==============================] - 43s 981ms/step\n",
            "1.038827e-06 1.0 1.0\n",
            "\n",
            " Epoch 145/500\n",
            "43/43 [==============================] - 44s 1s/step\n",
            "-0.0 1.0 1.0\n",
            "\n",
            " Epoch 146/500\n",
            "43/43 [==============================] - 44s 1s/step\n",
            "8.174398e-07 1.0 1.0\n",
            "\n",
            " Epoch 147/500\n",
            "43/43 [==============================] - 42s 980ms/step\n",
            "4.7897415e-06 1.0 1.0\n",
            "\n",
            " Epoch 148/500\n",
            "43/43 [==============================] - 44s 1s/step\n",
            "2.5544852e-08 1.0 1.0\n",
            "\n",
            " Epoch 149/500\n",
            "43/43 [==============================] - 44s 1s/step\n",
            "3.567853e-06 1.0 1.0\n",
            "\n",
            " Epoch 150/500\n",
            "43/43 [==============================] - 43s 1s/step\n",
            "5.1089717e-08 1.0 1.0\n",
            "\n",
            " Epoch 151/500\n",
            "43/43 [==============================] - 46s 1s/step\n",
            "4.1723374e-07 1.0 1.0\n",
            "\n",
            " Epoch 152/500\n",
            "43/43 [==============================] - 43s 1s/step\n",
            "2.967491e-06 1.0 1.0\n",
            "\n",
            " Epoch 153/500\n",
            "43/43 [==============================] - 43s 998ms/step\n",
            "-0.0 1.0 1.0\n",
            "\n",
            " Epoch 154/500\n",
            "43/43 [==============================] - 43s 997ms/step\n",
            "-0.0 1.0 1.0\n",
            "\n",
            " Epoch 155/500\n",
            "43/43 [==============================] - 44s 1s/step\n",
            "2.1713153e-07 1.0 1.0\n",
            "\n",
            " Epoch 156/500\n",
            "43/43 [==============================] - 44s 1s/step\n",
            "9.426336e-06 1.0 1.0\n",
            "\n",
            " Epoch 157/500\n",
            "43/43 [==============================] - 43s 996ms/step\n",
            "2.4267952e-06 1.0 1.0\n",
            "\n",
            " Epoch 158/500\n",
            "43/43 [==============================] - 45s 1s/step\n",
            "1.3113131e-06 1.0 1.0\n",
            "\n",
            " Epoch 159/500\n",
            "43/43 [==============================] - 45s 1s/step\n",
            "6.8119625e-08 1.0 1.0\n",
            "\n",
            " Epoch 160/500\n",
            "43/43 [==============================] - 45s 1s/step\n",
            "1.1495274e-06 1.0 1.0\n",
            "\n",
            " Epoch 161/500\n",
            "43/43 [==============================] - 45s 1s/step\n",
            "3.5762847e-07 1.0 1.0\n",
            "\n",
            " Epoch 162/500\n",
            "43/43 [==============================] - 46s 1s/step\n",
            "7.0930982e-06 1.0 1.0\n",
            "\n",
            " Epoch 163/500\n",
            "43/43 [==============================] - 43s 1s/step\n",
            "-0.0 1.0 1.0\n",
            "\n",
            " Epoch 164/500\n",
            "43/43 [==============================] - 45s 1s/step\n",
            "5.1431393e-06 1.0 1.0\n",
            "\n",
            " Epoch 165/500\n",
            "43/43 [==============================] - 44s 1s/step\n",
            "-0.0 1.0 1.0\n",
            "\n",
            " Epoch 166/500\n",
            "43/43 [==============================] - 43s 997ms/step\n",
            "2.8950885e-07 1.0 1.0\n",
            "\n",
            " Epoch 167/500\n",
            "43/43 [==============================] - 44s 1s/step\n",
            "3.2314626e-06 1.0 1.0\n",
            "\n",
            " Epoch 168/500\n",
            "43/43 [==============================] - 42s 979ms/step\n",
            "3.5380247e-06 1.0 1.0\n",
            "\n",
            " Epoch 169/500\n",
            "43/43 [==============================] - 44s 1s/step\n",
            "7.152593e-07 1.0 1.0\n",
            "\n",
            " Epoch 170/500\n",
            "43/43 [==============================] - 42s 980ms/step\n",
            "8.4298284e-07 1.0 1.0\n",
            "\n",
            " Epoch 171/500\n",
            "43/43 [==============================] - 44s 1s/step\n",
            "1.0047708e-06 1.0 1.0\n",
            "\n",
            " Epoch 172/500\n",
            "43/43 [==============================] - 45s 1s/step\n",
            "8.514953e-08 1.0 1.0\n",
            "\n",
            " Epoch 173/500\n",
            "43/43 [==============================] - 46s 1s/step\n",
            "6.8119625e-08 1.0 1.0\n",
            "\n",
            " Epoch 174/500\n",
            "43/43 [==============================] - 43s 990ms/step\n",
            "8.600126e-07 1.0 1.0\n",
            "\n",
            " Epoch 175/500\n",
            "43/43 [==============================] - 44s 1s/step\n",
            "1.907369e-06 1.0 1.0\n",
            "\n",
            " Epoch 176/500\n",
            "43/43 [==============================] - 44s 1s/step\n",
            "-0.0 1.0 1.0\n",
            "\n",
            " Epoch 177/500\n",
            "43/43 [==============================] - 45s 1s/step\n",
            "1.7285556e-06 1.0 1.0\n",
            "\n",
            " Epoch 178/500\n",
            "43/43 [==============================] - 43s 1s/step\n",
            "7.2377435e-07 1.0 1.0\n",
            "\n",
            " Epoch 179/500\n",
            "43/43 [==============================] - 43s 1s/step\n",
            "1.9584411e-07 1.0 1.0\n",
            "\n",
            " Epoch 180/500\n",
            "43/43 [==============================] - 42s 983ms/step\n",
            "-0.0 1.0 1.0\n",
            "\n",
            " Epoch 181/500\n",
            "43/43 [==============================] - 48s 1s/step\n",
            "1.4603221e-06 1.0 1.0\n",
            "\n",
            " Epoch 182/500\n",
            "43/43 [==============================] - 46s 1s/step\n",
            "3.4059806e-08 1.0 1.0\n",
            "\n",
            " Epoch 183/500\n",
            "43/43 [==============================] - 43s 993ms/step\n",
            "5.449579e-07 1.0 1.0\n",
            "\n",
            " Epoch 184/500\n",
            "43/43 [==============================] - 46s 1s/step\n",
            "2.333132e-06 1.0 1.0\n",
            "\n",
            " Epoch 185/500\n",
            "43/43 [==============================] - 44s 1s/step\n",
            "2.7247884e-07 1.0 1.0\n",
            "\n",
            " Epoch 186/500\n",
            "43/43 [==============================] - 45s 1s/step\n",
            "1.0643762e-06 1.0 1.0\n",
            "\n",
            " Epoch 187/500\n",
            "43/43 [==============================] - 43s 1s/step\n",
            "1.7200261e-06 1.0 1.0\n",
            "\n",
            " Epoch 188/500\n",
            "43/43 [==============================] - 43s 989ms/step\n",
            "-0.0 1.0 1.0\n",
            "\n",
            " Epoch 189/500\n",
            "43/43 [==============================] - 44s 1s/step\n",
            "-0.0 1.0 1.0\n",
            "\n",
            " Epoch 190/500\n",
            "43/43 [==============================] - 42s 982ms/step\n",
            "-0.0 1.0 1.0\n",
            "\n",
            " Epoch 191/500\n",
            "43/43 [==============================] - 45s 1s/step\n",
            "3.9594565e-07 1.0 1.0\n",
            "\n",
            " Epoch 192/500\n",
            "43/43 [==============================] - 43s 999ms/step\n",
            "-0.0 1.0 1.0\n",
            "\n",
            " Epoch 193/500\n",
            "43/43 [==============================] - 45s 1s/step\n",
            "6.8119625e-08 1.0 1.0\n",
            "\n",
            " Epoch 194/500\n",
            "43/43 [==============================] - 43s 1s/step\n",
            "3.4059806e-08 1.0 1.0\n",
            "\n",
            " Epoch 195/500\n",
            "27/43 [=================>............] - ETA: 16s"
          ]
        }
      ]
    },
    {
      "cell_type": "markdown",
      "source": [
        "##Evolution"
      ],
      "metadata": {
        "id": "lT75PHu2aVLD"
      }
    },
    {
      "cell_type": "code",
      "source": [
        "# Import metric calculations\n",
        "from tensorflow.keras.metrics import Precision, Recall"
      ],
      "metadata": {
        "id": "azuz4neSql7Q"
      },
      "execution_count": 1,
      "outputs": []
    },
    {
      "cell_type": "code",
      "source": [
        "# Get a batch of test data\n",
        "test_input, test_val, y_true = test_data.as_numpy_iterator().next()"
      ],
      "metadata": {
        "id": "kDUi4hnfrv5c"
      },
      "execution_count": 55,
      "outputs": []
    },
    {
      "cell_type": "code",
      "source": [
        "y_hat = siamese_model.predict([test_input, test_val])"
      ],
      "metadata": {
        "id": "1baACQWurzG9"
      },
      "execution_count": 56,
      "outputs": []
    },
    {
      "cell_type": "code",
      "source": [
        "# Post processing the results \n",
        "[1 if prediction > 0.5 else 0 for prediction in y_hat ]"
      ],
      "metadata": {
        "colab": {
          "base_uri": "https://localhost:8080/"
        },
        "id": "4spMWHEor2NG",
        "outputId": "0ba50e10-62ad-4f4c-88e2-6dbb500d0b4c"
      },
      "execution_count": 57,
      "outputs": [
        {
          "output_type": "execute_result",
          "data": {
            "text/plain": [
              "[1, 1, 1, 1, 1, 1, 1, 1, 1, 0, 0, 1, 0, 0, 0, 1]"
            ]
          },
          "metadata": {},
          "execution_count": 57
        }
      ]
    },
    {
      "cell_type": "code",
      "source": [
        "y_true"
      ],
      "metadata": {
        "colab": {
          "base_uri": "https://localhost:8080/"
        },
        "id": "fKALxl8ir4_b",
        "outputId": "be018abf-cd50-4776-d2d2-88e444098dd0"
      },
      "execution_count": 58,
      "outputs": [
        {
          "output_type": "execute_result",
          "data": {
            "text/plain": [
              "array([0., 1., 0., 1., 1., 1., 0., 0., 0., 1., 1., 1., 1., 1., 1., 0.],\n",
              "      dtype=float32)"
            ]
          },
          "metadata": {},
          "execution_count": 58
        }
      ]
    },
    {
      "cell_type": "code",
      "source": [
        "# Creating a metric object \n",
        "m = Recall()\n",
        "\n",
        "# Calculating the recall value \n",
        "m.update_state(y_true, y_hat)\n",
        "\n",
        "# Return Recall Result\n",
        "m.result().numpy()"
      ],
      "metadata": {
        "colab": {
          "base_uri": "https://localhost:8080/"
        },
        "id": "wSFfgdt1r9Ep",
        "outputId": "a8beceda-2b0c-48b6-9c88-d5bab1ee6a44"
      },
      "execution_count": 59,
      "outputs": [
        {
          "output_type": "execute_result",
          "data": {
            "text/plain": [
              "0.5"
            ]
          },
          "metadata": {},
          "execution_count": 59
        }
      ]
    },
    {
      "cell_type": "code",
      "source": [
        "# Creating a metric object \n",
        "m = Precision()\n",
        "\n",
        "# Calculating the recall value \n",
        "m.update_state(y_true, y_hat)\n",
        "\n",
        "# Return Recall Result\n",
        "m.result().numpy()"
      ],
      "metadata": {
        "colab": {
          "base_uri": "https://localhost:8080/"
        },
        "id": "zPKmn8RGsDwU",
        "outputId": "a6ee5fa2-b208-43a7-d866-25b6cbcbccc2"
      },
      "execution_count": 60,
      "outputs": [
        {
          "output_type": "execute_result",
          "data": {
            "text/plain": [
              "0.45454547"
            ]
          },
          "metadata": {},
          "execution_count": 60
        }
      ]
    },
    {
      "cell_type": "code",
      "source": [
        "r = Recall()\n",
        "p = Precision()\n",
        "\n",
        "for test_input, test_val, y_true in test_data.as_numpy_iterator():\n",
        "    yhat = siamese_model.predict([test_input, test_val])\n",
        "    r.update_state(y_true, yhat)\n",
        "    p.update_state(y_true,yhat) \n",
        "\n",
        "print(r.result().numpy(), p.result().numpy())"
      ],
      "metadata": {
        "colab": {
          "base_uri": "https://localhost:8080/"
        },
        "id": "L6rB9z_nsGoK",
        "outputId": "99ec8e41-6510-4ed9-f424-fb47c0eaad9a"
      },
      "execution_count": 61,
      "outputs": [
        {
          "output_type": "stream",
          "name": "stdout",
          "text": [
            "0.5205479 0.36363637\n"
          ]
        }
      ]
    },
    {
      "cell_type": "code",
      "source": [
        "# Set plot size \n",
        "plt.figure(figsize=(10,8))\n",
        "\n",
        "# Set first subplot\n",
        "plt.subplot(1,2,1)\n",
        "plt.imshow(test_input[0])\n",
        "\n",
        "# Set second subplot\n",
        "plt.subplot(1,2,2)\n",
        "plt.imshow(test_val[0])\n",
        "\n",
        "# Renders cleanly\n",
        "plt.show()"
      ],
      "metadata": {
        "colab": {
          "base_uri": "https://localhost:8080/",
          "height": 304
        },
        "id": "wkqnnAFXsJYs",
        "outputId": "3cdc8b26-b684-4f28-82d1-1325043bb1c2"
      },
      "execution_count": 62,
      "outputs": [
        {
          "output_type": "display_data",
          "data": {
            "text/plain": [
              "<Figure size 720x576 with 2 Axes>"
            ],
            "image/png": "[encoded data removed]"
          },
          "metadata": {
            "needs_background": "light"
          }
        }
      ]
    },
    {
      "cell_type": "markdown",
      "source": [
        "### Rest of the code is for **implementation purpose**"
      ],
      "metadata": {
        "id": "r4clSzFMYvZY"
      }
    },
    {
      "cell_type": "code",
      "source": [
        "# Import standard dependencies\n",
        "import cv2\n",
        "import os\n",
        "import numpy as np\n",
        "\n",
        "from tensorflow.keras.layers import Layer\n",
        "import tensorflow as tf\n",
        "import uuid\n",
        "\n",
        "def face_crop(image):\n",
        "    gray = cv2.cvtColor(image,cv2.COLOR_BGR2GRAY)\n",
        "    faces = face_cascade.detectMultiScale(gray,1.3,4)\n",
        "    face = image\n",
        "    face_dected = False\n",
        "    for (x,y,w,h) in faces:\n",
        "        face_dected = True\n",
        "        face = image[y:y+h,x:x+w]\n",
        "        face = cv2.resize(face, (250,250))\n",
        "        cv2.imshow(\"face\",face)\n",
        "\n",
        "    return face_dected,face\n",
        "\n",
        "def preprocess(file_path):\n",
        "    # Read in image from file path\n",
        "    byte_img = tf.io.read_file(file_path)\n",
        "    # Load in the image\n",
        "    img = tf.io.decode_jpeg(byte_img)\n",
        "\n",
        "    # Preprocessing steps - resizing the image to be 100x100x3\n",
        "    img = tf.image.resize(img, (100, 100))\n",
        "    # Scale image to be between 0 and 1\n",
        "    img = img / 255.0\n",
        "\n",
        "    # Return image\n",
        "    return img\n",
        "\n",
        "\n",
        "# Siamese L1 Distance class\n",
        "class L1Dist(Layer):\n",
        "\n",
        "    # Init method - inheritance\n",
        "    def __init__(self, **kwargs):\n",
        "        super().__init__()\n",
        "\n",
        "    def call(self, input_embedding, validation_embedding):\n",
        "        return tf.math.abs(input_embedding - validation_embedding)\n",
        "\n",
        "\n",
        "\n",
        "\n",
        "def verify(model, detection_threshold, verification_threshold):\n",
        "    input_img = preprocess(os.path.join('application_data', 'input_image', 'input_image.jpg'))\n",
        "    #print(\"Before Outer Loop\")\n",
        "    for folder_name in os.listdir(\"application_data\"):\n",
        "        if folder_name == \"input_image\":\n",
        "            continue\n",
        "        \n",
        "    # Build results array\n",
        "    #Finiding total employee count\n",
        "    #Walking through each directory and checking image of that directory to input image\n",
        "        results = []\n",
        "        #print(\"Before Inner Loop\")\n",
        "        for image in os.listdir(os.path.join('application_data', folder_name)):\n",
        "            validation_img = preprocess(os.path.join('application_data', folder_name, image))\n",
        "\n",
        "            # Make Predictions\n",
        "            result = model.predict(list(np.expand_dims([input_img, validation_img], axis=1)))\n",
        "            results.append(result)\n",
        "        # Detection Threshold: Metric above which a prediciton is considered positive\n",
        "        detection = np.sum(np.array(results) > detection_threshold)\n",
        "        # Verification Threshold: Proportion of positive predictions / total positive samples\n",
        "        verification = detection / len(os.listdir(os.path.join('application_data', folder_name)))\n",
        "        # print(\"Checking to verify\")\n",
        "\n",
        "        if verification > verification_threshold:\n",
        "            verified = True\n",
        "            print(\"Returning values\")\n",
        "            print(\"Folder name: \", folder_name)\n",
        "            print(\"result : \", results)\n",
        "            return results, verified, folder_name\n",
        "        print(\"Folder name: \",folder_name)\n",
        "        print(\"result : \",results)\n",
        "\n",
        "\n",
        "    return results, False, \"Not found\"\n",
        "\n",
        "\n",
        "def add_person(name_id):\n",
        "\n",
        "    #path to main folder + individual person photo folder\n",
        "    path = 'D:\\\\path\\\\to\\\\main\\\\folder\\\\' + name_id  #path to main folder + individual person photo folder\n",
        "    print(path)\n",
        "    if(os.path.isdir(path)):\n",
        "        print(\"alreay in database\")\n",
        "        return\n",
        "    else:\n",
        "        os.makedirs(path)\n",
        "\n",
        "\n",
        "    # Establish a connection to the webcam\n",
        "    cap = cv2.VideoCapture(0)\n",
        "    i=1\n",
        "    while cap.isOpened():\n",
        "        ret, frame = cap.read()\n",
        "        if(i>50):\n",
        "            break\n",
        "\n",
        "        cv2.imshow('Image Collection', frame)\n",
        "        # Cut down frame to 250x250px\n",
        "        face_detect, frame = face_crop(frame)\n",
        "        print(face_detect)\n",
        "        # Collect anchors\n",
        "        if cv2.waitKey(1) & 0XFF == ord('a'):\n",
        "            if(face_detect):\n",
        "                # Create the unique file path\n",
        "                imgname = os.path.join(path, '{}.jpg'.format(uuid.uuid1()))\n",
        "                # Write out anchor image\n",
        "                cv2.imwrite(imgname, frame)\n",
        "                i = i + 1\n",
        "\n",
        "        # Breaking gracefully\n",
        "        if cv2.waitKey(1) & 0XFF == ord('q'):\n",
        "            break\n",
        "\n",
        "    # Release the webcam\n",
        "    cap.release()\n",
        "    # Close the image show frame\n",
        "    cv2.destroyAllWindows()\n",
        "\n",
        "def verify_a_person():\n",
        "    cap = cv2.VideoCapture(0)\n",
        "    while cap.isOpened():\n",
        "        ret, frame = cap.read()\n",
        "        cv2.imshow('Verification', frame)\n",
        "        face_detect,frame = face_crop(frame)\n",
        "        if(not face_detect):\n",
        "            continue\n",
        "\n",
        "\n",
        "        # Verification trigger\n",
        "        if cv2.waitKey(10) & 0xFF == ord('v'):\n",
        "\n",
        "            cv2.imwrite(os.path.join('application_data', 'input_image', 'input_image.jpg'), frame)\n",
        "            # Run verification\n",
        "            results, verified, folder_name = verify(siamese_model, 0.4, 0.4)\n",
        "            print(verified)\n",
        "            # print(results)\n",
        "            print(folder_name)\n",
        "\n",
        "\n",
        "        if cv2.waitKey(10) & 0xFF == ord('q'):\n",
        "            break\n",
        "    cap.release()\n",
        "    cv2.destroyAllWindows()\n",
        "\n",
        "# Reload model\n",
        "siamese_model = tf.keras.models.load_model('siamesemodelv2.h5',\n",
        "                                           custom_objects={'L1Dist': L1Dist, 'BinaryCrossentropy': tf.losses.BinaryCrossentropy})\n",
        "\n",
        "while(1):\n",
        "\n",
        "    choice = input(\"What do you want to do : \\n1.Add a new person\\n2.Verify person\\n3.Quit\\n\")\n",
        "    global face_cascade\n",
        "\n",
        "    #path to haar cascade file\n",
        "    haar_file = 'D:\\\\path\\\\to\\\\haar_cascade_file\\\\haarcascade_frontalface_default.xml'\n",
        "    face_cascade = cv2.CascadeClassifier(haar_file)\n",
        "    if(choice == '1'):\n",
        "        name_id = input(\"Enter person's identification: \")\n",
        "        add_person(name_id)\n",
        "    elif(choice == '2'):\n",
        "        verify_a_person()\n",
        "    else:\n",
        "        print(choice)\n",
        "        print(\"Thankyou\")\n",
        "        break\n"
      ],
      "metadata": {
        "id": "GhotWKL6stxs"
      },
      "execution_count": null,
      "outputs": []
    },
    {
      "cell_type": "code",
      "source": [
        ""
      ],
      "metadata": {
        "id": "Ubt4SpS1tClj"
      },
      "execution_count": null,
      "outputs": []
    }
  ]
}